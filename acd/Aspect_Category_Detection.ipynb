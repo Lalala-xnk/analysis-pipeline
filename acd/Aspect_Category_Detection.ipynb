{
 "cells": [
  {
   "cell_type": "markdown",
   "source": [
    "# Aspect Category Detection"
   ],
   "metadata": {
    "collapsed": false
   }
  },
  {
   "cell_type": "markdown",
   "source": [
    "Configuration"
   ],
   "metadata": {
    "collapsed": false
   }
  },
  {
   "cell_type": "code",
   "execution_count": null,
   "outputs": [],
   "source": [],
   "metadata": {
    "collapsed": false,
    "pycharm": {
     "name": "#%%\n"
    }
   }
  },
  {
   "cell_type": "markdown",
   "source": [
    "Input"
   ],
   "metadata": {
    "collapsed": false
   }
  },
  {
   "cell_type": "code",
   "execution_count": 14,
   "outputs": [],
   "source": [
    "import pandas as pd\n",
    "import numpy as np\n",
    "\n",
    "label_list = ['Yes', 'No']\n",
    "\n",
    "context_id_map_fiqa = {\"legal\": 0, \"m&a\": 1, \"regulatory\": 2, \"risks\": 3, \"rumors\": 4, \"company communication\": 5, \"trade\": 6, \"central banks\": 7, \"market\": 8, \"volatility\": 9, \"financial\": 10, \"fundamentals\": 11, \"price action\": 12, \"insider activity\": 13, \"ipo\": 14, \"others\": 15}\n",
    "\n",
    "df_original = pd.read_csv('./coref/coref_out.csv', header=None)"
   ],
   "metadata": {
    "collapsed": false,
    "pycharm": {
     "name": "#%%\n"
    }
   }
  },
  {
   "cell_type": "markdown",
   "source": [
    "Preprocess"
   ],
   "metadata": {
    "collapsed": false
   }
  },
  {
   "cell_type": "code",
   "execution_count": 31,
   "metadata": {
    "collapsed": true
   },
   "outputs": [],
   "source": [
    "data = {'context': list(context_id_map_fiqa.keys()) * len(df_original), 'text': list(np.repeat(df_original.values, 16))}\n",
    "df_processed = pd.DataFrame(data)\n",
    "df_processed.to_csv('acd_in.csv', index=None, header=None)"
   ]
  },
  {
   "cell_type": "markdown",
   "source": [
    "Predict"
   ],
   "metadata": {
    "collapsed": false
   }
  },
  {
   "cell_type": "code",
   "execution_count": null,
   "outputs": [],
   "source": [
    "! python aspect_detector.py --path ./acd_in.csv --vocab_file ./vocab.txt --bert_config_file ./bert_config.json --init_checkpoint ./best_checkpoint.bin"
   ],
   "metadata": {
    "collapsed": false,
    "pycharm": {
     "name": "#%%\n",
     "is_executing": true
    }
   }
  },
  {
   "cell_type": "markdown",
   "source": [
    "Postprocess"
   ],
   "metadata": {
    "collapsed": false
   }
  },
  {
   "cell_type": "code",
   "execution_count": null,
   "outputs": [],
   "source": [],
   "metadata": {
    "collapsed": false,
    "pycharm": {
     "name": "#%%\n"
    }
   }
  }
 ],
 "metadata": {
  "kernelspec": {
   "display_name": "Python 3",
   "language": "python",
   "name": "python3"
  },
  "language_info": {
   "codemirror_mode": {
    "name": "ipython",
    "version": 2
   },
   "file_extension": ".py",
   "mimetype": "text/x-python",
   "name": "python",
   "nbconvert_exporter": "python",
   "pygments_lexer": "ipython2",
   "version": "2.7.6"
  }
 },
 "nbformat": 4,
 "nbformat_minor": 0
}