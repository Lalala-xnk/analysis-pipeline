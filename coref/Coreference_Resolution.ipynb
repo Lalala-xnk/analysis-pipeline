{
 "cells": [
  {
   "cell_type": "markdown",
   "source": [
    "# Coreference Resolution"
   ],
   "metadata": {
    "collapsed": false
   }
  },
  {
   "cell_type": "markdown",
   "source": [
    "Configuration"
   ],
   "metadata": {
    "collapsed": false
   }
  },
  {
   "cell_type": "code",
   "execution_count": null,
   "outputs": [],
   "source": [
    "import os\n",
    "os.environ['data_dir'] = \".\"\n",
    "os.environ['CHOSEN_MODEL'] = 'spanbert_base'\n",
    "! pip uninstall -y tensorflow\n",
    "! pip install -r requirements.txt --log install-log.txt -q\n",
    "! chmod u+x setup_all.sh\n",
    "! ./setup_all.sh"
   ],
   "metadata": {
    "collapsed": false,
    "pycharm": {
     "name": "#%%\n"
    }
   }
  },
  {
   "cell_type": "markdown",
   "source": [
    "Input"
   ],
   "metadata": {
    "collapsed": false
   }
  },
  {
   "cell_type": "code",
   "execution_count": null,
   "outputs": [],
   "source": [
    "import pandas as pd\n",
    "\n",
    "original_text = ''\n",
    "keyword = 'Keppel'\n",
    "genre = 'nw'\n",
    "model_name = 'spanbert_base'"
   ],
   "metadata": {
    "collapsed": false,
    "pycharm": {
     "name": "#%%\n"
    }
   }
  },
  {
   "cell_type": "markdown",
   "metadata": {
    "collapsed": true,
    "pycharm": {
     "name": "#%% md\n"
    }
   },
   "source": [
    "Preprocess"
   ]
  },
  {
   "cell_type": "code",
   "execution_count": null,
   "outputs": [],
   "source": [
    "import nltk\n",
    "import tokenization\n",
    "import json\n",
    "nltk.download('punkt')\n",
    "\n",
    "\n",
    "original_text = original_text\n",
    "text = nltk.tokenize.sent_tokenize(original_text.replace('\\n', ' '))\n",
    "cnt = 0\n",
    "sentence_dict = []\n",
    "for (i, sentence) in enumerate(text):\n",
    "    cnt += len(sentence.split())\n",
    "    sentence_dict.append(cnt)\n",
    "\n",
    "data = {\n",
    "    'doc_key': genre,\n",
    "    'sentences': [[\"[CLS]\"]],\n",
    "    'speakers': [[\"[SPL]\"]],\n",
    "    'clusters': [],\n",
    "    'sentence_map': [0],\n",
    "    'subtoken_map': [0],\n",
    "}\n",
    "\n",
    "# Determine Max Segment\n",
    "max_segment = None\n",
    "for line in open('experiments.conf'):\n",
    "    if line.startswith(model_name):\n",
    "        max_segment = True\n",
    "    elif line.strip().startswith(\"max_segment_len\"):\n",
    "        if max_segment:\n",
    "            max_segment = int(line.strip().split()[-1])\n",
    "            break\n",
    "\n",
    "tokenizer = tokenization.FullTokenizer(vocab_file=\"cased_config_vocab/vocab.txt\", do_lower_case=False)\n",
    "subtoken_num = 0\n",
    "for sent_num, line in enumerate(text):\n",
    "    raw_tokens = line.split()\n",
    "    tokens = tokenizer.tokenize(line)\n",
    "    if len(tokens) + len(data['sentences'][-1]) >= max_segment:\n",
    "        data['sentences'][-1].append(\"[SEP]\")\n",
    "        data['sentences'].append([\"[CLS]\"])\n",
    "        data['speakers'][-1].append(\"[SPL]\")\n",
    "        data['speakers'].append([\"[SPL]\"])\n",
    "        data['sentence_map'].append(sent_num - 1)\n",
    "        data['subtoken_map'].append(subtoken_num - 1)\n",
    "        data['sentence_map'].append(sent_num)\n",
    "        data['subtoken_map'].append(subtoken_num)\n",
    "\n",
    "    ctoken = raw_tokens[0]\n",
    "    cpos = 0\n",
    "    for token in tokens:\n",
    "        data['sentences'][-1].append(token)\n",
    "        data['speakers'][-1].append(\"-\")\n",
    "        data['sentence_map'].append(sent_num)\n",
    "        data['subtoken_map'].append(subtoken_num)\n",
    "\n",
    "        if token.startswith(\"##\"):\n",
    "            token = token[2:]\n",
    "        if len(ctoken) == len(token):\n",
    "            subtoken_num += 1\n",
    "            cpos += 1\n",
    "            if cpos < len(raw_tokens):\n",
    "                ctoken = raw_tokens[cpos]\n",
    "        else:\n",
    "            ctoken = ctoken[len(token):]\n",
    "\n",
    "data['sentences'][-1].append(\"[SEP]\")\n",
    "data['speakers'][-1].append(\"[SPL]\")\n",
    "data['sentence_map'].append(sent_num - 1)\n",
    "data['subtoken_map'].append(subtoken_num - 1)\n",
    "\n",
    "with open(\"in.json\", 'w') as out:\n",
    "    json.dump(data, out, sort_keys=True)\n",
    "\n",
    "! cat in.json"
   ],
   "metadata": {
    "collapsed": false,
    "pycharm": {
     "name": "#%%\n"
    }
   }
  },
  {
   "cell_type": "markdown",
   "source": [
    "Predict"
   ],
   "metadata": {
    "collapsed": false
   }
  },
  {
   "cell_type": "code",
   "execution_count": null,
   "outputs": [],
   "source": [
    "! GPU=0 python predict.py model_name in.json out.txt"
   ],
   "metadata": {
    "collapsed": false,
    "pycharm": {
     "name": "#%%\n"
    }
   }
  },
  {
   "cell_type": "markdown",
   "source": [
    "Postprocess"
   ],
   "metadata": {
    "collapsed": false
   }
  },
  {
   "cell_type": "code",
   "execution_count": null,
   "outputs": [],
   "source": [
    "output = json.load(open(\"out.txt\"))\n",
    "\n",
    "comb_text = [word for sentence in output['sentences'] for word in sentence]\n",
    "\n",
    "def convert_cluster(mention):\n",
    "    end = output['subtoken_map'][mention[1]] + 1\n",
    "    mtext = ''.join(' '.join(comb_text[mention[0]:mention[1]+1]).split(\" ##\"))\n",
    "    return (end, mtext)\n",
    "\n",
    "seen = set()\n",
    "clusters = []\n",
    "clusters_idx = []\n",
    "for cluster in output['predicted_clusters']:\n",
    "    mapped = []\n",
    "    mapped_idx = []\n",
    "    for mention in cluster:\n",
    "        seen.add(tuple(mention))\n",
    "        convert = convert_cluster(mention)\n",
    "        mapped.append(convert[1])\n",
    "        mapped_idx.append(convert[0])\n",
    "    clusters.append(mapped)\n",
    "    clusters_idx.append(mapped_idx)\n",
    "\n",
    "idx = []\n",
    "for i, cluster in enumerate(clusters):\n",
    "    for item in cluster:\n",
    "        if keyword.lower() in item.lower():\n",
    "            idx.append(i)\n",
    "            break\n",
    "\n",
    "print('Relevant sentences for \\'' + keyword + '\\':')\n",
    "relevant_sentences = []\n",
    "if len(idx):\n",
    "    relevant_idx = []\n",
    "    for i in idx:\n",
    "        sentences_idx = []\n",
    "        start_idx = 0\n",
    "        for word_idx in clusters_idx[i]:\n",
    "            while word_idx > sentence_dict[start_idx]:\n",
    "                start_idx += 1\n",
    "            sentences_idx.append(start_idx)\n",
    "        relevant_idx.extend(sentences_idx)\n",
    "    for i in set(relevant_idx):\n",
    "        print(text[i])\n",
    "        relevant_sentences.append(text[i])\n",
    "else:\n",
    "    print('None')\n",
    "out_df = pd.DataFrame(relevant_sentences)\n",
    "out_df.to_csv('coref_out.csv', index=False, header=False)"
   ],
   "metadata": {
    "collapsed": false,
    "pycharm": {
     "name": "#%%\n"
    }
   }
  }
 ],
 "metadata": {
  "kernelspec": {
   "display_name": "Python 3",
   "language": "python",
   "name": "python3"
  },
  "language_info": {
   "codemirror_mode": {
    "name": "ipython",
    "version": 2
   },
   "file_extension": ".py",
   "mimetype": "text/x-python",
   "name": "python",
   "nbconvert_exporter": "python",
   "pygments_lexer": "ipython2",
   "version": "2.7.6"
  }
 },
 "nbformat": 4,
 "nbformat_minor": 0
}